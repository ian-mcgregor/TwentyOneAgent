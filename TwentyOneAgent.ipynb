{
 "cells": [
  {
   "cell_type": "markdown",
   "id": "reasonable-tragedy",
   "metadata": {},
   "source": [
    "Before you turn this problem in, make sure everything runs as expected. First, **restart the kernel** (in the menubar, select Kernel$\\rightarrow$Restart) and then **run all cells** (in the menubar, select Cell$\\rightarrow$Run All).\n",
    "\n",
    "Make sure you fill in any place that says `YOUR CODE HERE` or \"YOUR ANSWER HERE\", as well as your name and collaborators below:"
   ]
  },
  {
   "cell_type": "code",
   "execution_count": 3,
   "id": "collect-essex",
   "metadata": {},
   "outputs": [],
   "source": [
    "# Your name here\n",
    "NAME = \"Ian McGregor\""
   ]
  },
  {
   "cell_type": "code",
   "execution_count": 4,
   "id": "handled-database",
   "metadata": {},
   "outputs": [],
   "source": [
    "## Adding a check for version\n",
    "import IPython\n",
    "assert IPython.version_info[0] >= 3, \"Your version of IPython is too old, please update it.\""
   ]
  },
  {
   "cell_type": "markdown",
   "id": "found-victorian",
   "metadata": {},
   "source": [
    "---"
   ]
  },
  {
   "cell_type": "markdown",
   "id": "explicit-taylor",
   "metadata": {
    "deletable": false,
    "editable": false,
    "nbgrader": {
     "cell_type": "markdown",
     "checksum": "3188e0de76dfd55f063168f1ee81553d",
     "grade": false,
     "grade_id": "cell-63de0bf57d1cf0b0",
     "locked": true,
     "schema_version": 3,
     "solution": false,
     "task": false
    }
   },
   "source": [
    "# Assignment 3: Twenty Plus One Game\n",
    "\n",
    "This assignment asks you to implement an intelligent agent to play the twenty plus one game against one or more adversaries.\n",
    "\n",
    "Twenty plus one is a \"drinking game\":  before you solve this assignment the course staff would like to remind you to drink responsibly, only if you are over twenty one, and always in moderation. Remember, as a computer scientist you will depend on your brain cells to make a living and Alcohol kills brain cells.\n",
    "\n",
    "## Twenty Plus One.\n",
    "\n",
    "Read about the game here: https://en.wikipedia.org/wiki/21_(drinking_game)\n",
    "\n",
    "#### Game Rules (Please Read Carefully)\n",
    "\n",
    "- The game is played among 2 or more players. \n",
    "- We always assume player number 0 is the intelligent agent. The other players are player numbered $1$, $2$, ..., $n-1$.\n",
    "- The game starts with player 0 and the initial __count__ is at 0.\n",
    "  - The initial direction of play is $+1$. I.e, the the game moves from player 0, followed by 1 and so on until $n-1$. After $n-1$, it wraps around to $0$.\n",
    "  - Often, the direction of play can be reversed to $-1$. In this case, the game moves from player $i$ to $i-1$, until it reaches $0$ at which point it wraps around to player $n-1$.\n",
    "- Each player has one of three moves:\n",
    "  - Increment the __count__ by one. In this case, the move passes to the next player in the current direction.\n",
    "  - Increment the __count__ by two. In this case, the direction of play is reversed. I.e, if we were moving from player i to i+1, we will now move from player i to i-1.\n",
    "  - Increment the __count__ by three. In this case, the direction of play remains unchanged but the next player in the current direction skips a turn.\n",
    "- If a player $j$ causes the count to be greater than or equal to $21$, the game stops and player $j$ loses. They are supposed to take a drink. For instance, if count is 19 and player plays a \"2\" or \"3\", they lose since count increased to 21 or more.\n",
    "- We will assume the drink is \"CSCI 3202 Professor\" brand koolaid (completely non-alcoholic but quite intoxicating nevertheless :-)\n",
    "  - Players imbibing too much of this koolaid risk going to graduate school in order to  become CS professors.\n",
    "\n",
    "### Example Game\n",
    "\n",
    "Player 0 starts with __count__ = 0 and __dir__ = +1.\n",
    "There are three players numbered  player 0, player 1 and player 2.\n",
    "\n",
    "- Player 0 counts one.\n",
    "  - New state is __count__ = 1, __dir__ = +1, player = 1.\n",
    "- Player 1 counts three.\n",
    "  - New state is __count__ = 4, __dir__ = +1, player = 0. Note: Player 2 skips a turn. The play wraps around to Player 0.\n",
    "- Player 0 counts three.\n",
    "  - New state is __count__ = 7, __dir__ = +1, player = 2. Note: Player 1 skips a turn and the play moves to Player 2.\n",
    "- Player 2 counts two.\n",
    "  - New State is __count__ = 9, __dir__ = -1, player = 1. Note: play reverses direction.\n",
    "- Player 1 counts three.\n",
    "  - New State is __count__ = 12,  __dir__ = -1, player = 2. Note: play wraps back to player 2, since player 0 skips a turn.\n",
    "- Player 2 counts two.\n",
    "  - New State is __count__ = 14, __dir__ = +1, player = 0.\n",
    "- Player 0 counts three.\n",
    "  - New State is __count__ = 17, __dir__ = +1, player = 2. \n",
    "- Player 2 counts three.\n",
    "  - New State is __count__ = 20,  __dir__ = +1, player = 1. \n",
    "- Player 1 counts two.\n",
    "  - New State is __count__ = 22. But since play crosses 21, player 1 loses the game and is forced to drink the Professor's CSCI 3202 Koolaid.\n"
   ]
  },
  {
   "cell_type": "markdown",
   "id": "correct-lending",
   "metadata": {
    "deletable": false,
    "editable": false,
    "nbgrader": {
     "cell_type": "markdown",
     "checksum": "ef3addbafe3002f0a0e6357a57cde09d",
     "grade": false,
     "grade_id": "cell-d44c6db487c44da1",
     "locked": true,
     "schema_version": 3,
     "solution": false,
     "task": false
    }
   },
   "source": [
    "## Assignment At a Glance\n",
    "\n",
    "Problem 1: Program minmax search for the adversarial version of the game.\n",
    "\n",
    " - 1 (A) : You need to think through the 2 player version and prove that the player who moves first can always force a win no matter what the other player does. Manually graded.\n",
    " - 1 (B) : You are provided an implementation of a class `TwentyOneGameBoard` that implements a game board. Please read through it carefully and use the functions defined in it.\n",
    "   - Implement the function: `multiplayer_minmax_search`: see section 5.2.2 of the book.\n",
    " - 1 (C) : not graded -- try out your game and see how it works.\n",
    " - 1 (D) : graded -- describe how to design utility function for the cooperative case when multiple players \"gang up\" against one of the players.\n",
    " \n",
    " \n",
    "Problem 2: Program expectimax search when there are random players as well as adversarial players.\n",
    "\n",
    "  - 2 (A) Complete the implementation of the `utility` function.\n",
    "  - 2 (B) Complete the implementation of `expectimax_search` function.\n",
    "  - 2 (C) Not graded: try to play against the intelligent agent you programmed in 2 (B) and check that it performs optimally."
   ]
  },
  {
   "cell_type": "markdown",
   "id": "public-saint",
   "metadata": {
    "deletable": false,
    "editable": false,
    "nbgrader": {
     "cell_type": "markdown",
     "checksum": "688e144fc12e851fa66cb5765a23c885",
     "grade": false,
     "grade_id": "cell-2a6f0311a1ae8fe9",
     "locked": true,
     "schema_version": 3,
     "solution": false,
     "task": false
    }
   },
   "source": [
    "## Problem 1 : Adversarial Twenty One (25 points)\n",
    "\n",
    "We assume that 21 is played between $n \\geq 2$ players each of whom derives an individual utility of -1 if they end up losing the game and +1 if they end up winning the game.\n",
    "\n",
    "\n",
    "### Part A (7 points)\n",
    "\n",
    "Assume 2 players play the game and player 0 gets to play first. \n",
    "\n",
    "Show that player 0 can always force player 1 to lose, no matter what actions player 1 take. To do so, briefly describe the strategy they would use. Your answer __should not exceed five sentences__ and there is a very simple strategy that can guarantee player 0 the win."
   ]
  },
  {
   "cell_type": "markdown",
   "id": "coated-speaking",
   "metadata": {
    "deletable": false,
    "nbgrader": {
     "cell_type": "markdown",
     "checksum": "5e164832631267146d1d40ec32e13c35",
     "grade": true,
     "grade_id": "cell-a1039ea0dab85e40",
     "locked": false,
     "points": 7,
     "schema_version": 3,
     "solution": true,
     "task": false
    }
   },
   "source": [
    "\n",
    "- Player 0 counts 3\n",
    "  - New state is __count__ = 3, __dir__ = +1, player = 0. Note: Player 1 skips a turn. The play wraps around to Player 0.\n",
    "\n",
    "- Player 0 counts 3\n",
    "  - New state is __count__ = 6, __dir__ = +1, player = 0. Note: Player 1 skips a turn. The play wraps around to Player 0.\n",
    "\n",
    "- Player 0 counts 3\n",
    "  - New state is __count__ = 9, __dir__ = +1, player = 0. Note: Player 1 skips a turn. The play wraps around to Player 0.\n",
    "\n",
    "- Player 0 counts 3\n",
    "  - New state is __count__ = 12, __dir__ = +1, player = 0. Note: Player 1 skips a turn. The play wraps around to Player 0.\n",
    "\n",
    "- Player 0 counts 3\n",
    "  - New state is __count__ = 15, __dir__ = +1, player = 0. Note: Player 1 skips a turn. The play wraps around to Player 0.\n",
    "\n",
    "- Player 0 counts 3\n",
    "  - New state is __count__ = 18, __dir__ = +1, player = 0. Note: Player 1 skips a turn. The play wraps around to Player 0.\n",
    "\n",
    "- Player 0 counts 2\n",
    "  - New state is __count__ = 20, __dir__ = -1, player = 1. Note: Player 1 finally plays.\n",
    "\n",
    "- Player 1 counts (any)\n",
    "  - New state is __count__ = 21+, __dir__ = +/-1, player = 0. Note: No matter what player 1 does here the count will be 21+, they will be forced to drink that Koolaid!!! \n",
    "\n",
    "  -Essentially what is happening here is player 0 is skipping player 1 by incrementing by 3 every play until the count reaches 18, where player 0 will count 2 and the count will be incremented to 20, where player 1 has no choice but to lose, as any of the actions permissable will lead to their doom."
   ]
  },
  {
   "cell_type": "markdown",
   "id": "received-noise",
   "metadata": {
    "deletable": false,
    "editable": false,
    "nbgrader": {
     "cell_type": "markdown",
     "checksum": "bb6363f926d1b12c26422d97ad2e0f08",
     "grade": false,
     "grade_id": "cell-75e2db38b6fb5e42",
     "locked": true,
     "schema_version": 3,
     "solution": false,
     "task": false
    }
   },
   "source": [
    "## Part B (13 Points)\n",
    "\n",
    "We now ask you to complete a multiplayer extension of the minmax search algorithm for this game. To begin with we will examine an implementation of the game's state, actions, and rules. This will be used to program the search.\n",
    "\n",
    "### (i) Implementation of the Game Board\n",
    "\n",
    "We have alreaddy provided an implementation of the game board that simulates the state of the game in terms of the current count, the current direction and the player. It implements the possible actions available to each player and the results of these actions. \n",
    "\n",
    "First carefully read the methods available.\n",
    "  - `get_current_player`: returns the player whose turn it is currently.\n",
    "  - `get_current_number`: returns the count of the game.\n",
    "  - `is_terminal`: checks if a game state represents a game that has ended.\n",
    "  - `utility`: returns a list of numbers that represent the utility of a state for each player. This function can only be called on a game state that is terminal\n",
    "  - `actions`: returns a list of actions available to the player.\n",
    "  - `next_state`: for a given action returns a new state as a new instance of a  `TwentyOneGameBoard` object.\n",
    "\n",
    "Please read through the code below carefully. You will have to use it: do not attempt to modify any of the code below."
   ]
  },
  {
   "cell_type": "code",
   "execution_count": 5,
   "id": "hindu-wagon",
   "metadata": {
    "deletable": false,
    "editable": false,
    "nbgrader": {
     "cell_type": "code",
     "checksum": "83c4e157589ac0a76d79eeff0e428032",
     "grade": false,
     "grade_id": "cell-a0818792af570443",
     "locked": true,
     "schema_version": 3,
     "solution": false,
     "task": false
    }
   },
   "outputs": [],
   "source": [
    "import copy\n",
    "import math\n",
    "class TwentyOneGameBoard:\n",
    "    # The class has the following fields:\n",
    "    #   - self.num_players : how many players are in the game must be >= 2.\n",
    "    #   - self.game_state: A tuple with three things (count, player, direction)\n",
    "    #     - count ~~> a number signifying the current count.\n",
    "    #     - player ~~~> whose turn is it (between 0 and num_players-1)\n",
    "    #     - direction ~~> +1 or -1\n",
    "\n",
    "    def __init__(self, num_players, start_num = 0, start_player=0, dir = 1):\n",
    "        \"\"\"Constructor for the class\"\"\"\n",
    "        assert(num_players >= 2)\n",
    "        self.num_players = num_players\n",
    "        self.game_state = (start_num, start_player, dir) # Specify number we are at, current player and game direction\n",
    "\n",
    "    def get_current_player(self):\n",
    "        \"\"\"return the id of the current player\"\"\"\n",
    "        (_,  player, _) = self.game_state\n",
    "        return player \n",
    "\n",
    "    def get_current_number(self):\n",
    "        \"\"\"return the current count for the game.\"\"\"\n",
    "        (num, _, _)= self.game_state\n",
    "        return num \n",
    "    \n",
    "    def is_terminal(self):\n",
    "        \"\"\"Is this game state a terminal state?\"\"\"\n",
    "        (num, _, _) = self.game_state\n",
    "        return num >= 21\n",
    "\n",
    "    def utility(self):\n",
    "        \"\"\"Calculate the utility of the game for each player.\n",
    "            Returns a list of same size as the number of players.\n",
    "        \"\"\"\n",
    "        (num, player, dir) = self.game_state\n",
    "        if self.is_terminal():\n",
    "            # Game is in a terminal state\n",
    "            # Utility for the player who lost is -1\n",
    "            #         for everyone else who did not lose is +1\n",
    "            return  [ -1 if (j==player) else 1 \n",
    "                     for j in range(self.num_players) ]\n",
    "        else: \n",
    "            assert False, \"Utility function is not directly defined for non-terminal states\"\n",
    "            return [0]*self.num_players\n",
    "\n",
    "        \n",
    "    def actions(self):\n",
    "        \"\"\"Return the set of actions available\"\"\"\n",
    "        if self.is_terminal():\n",
    "            return [] # Game over - no actions\n",
    "        else:\n",
    "            return [1, 2, 3] # Game is not over: actions available are 1, 2 or 3\n",
    "    \n",
    "    def pretty_print(self):\n",
    "        \"\"\" Pretty Print the game state.\"\"\"\n",
    "        (num, player, dir)  = self.game_state\n",
    "        print('Number: %d , Player to play: %d, direction: %d' % (num, player, dir))\n",
    "        if self.is_terminal():\n",
    "            print('Player %d has LOST! :-( ' % player)\n",
    "        return \n",
    "    \n",
    "    def next_state(self, action):\n",
    "        \"\"\"Calculate next state for a given action\"\"\"\n",
    "        (num, player, dir)  = self.game_state\n",
    "        assert not self.is_terminal()\n",
    "        next_num = num + action\n",
    "        next_player = player \n",
    "        next_dir = dir \n",
    "        if num + action >= 21:\n",
    "            # Game will end as a result of this action.\n",
    "            # Prepare a new game object accordingly\n",
    "            new_obj = copy.copy(self) # make a copy of myself\n",
    "            # Just keep the same player and increment to the next number\n",
    "            new_obj.game_state  = (next_num, next_player, next_dir)\n",
    "            assert new_obj.is_terminal()\n",
    "            return new_obj\n",
    "        else:\n",
    "            if action == 1:\n",
    "                # Move play to next player in the current game direction\n",
    "                next_player = player + dir  \n",
    "                next_dir = dir # Next direction remains the same\n",
    "            elif action == 2:\n",
    "                # reverse game direction and move game to next player in the reversed direction\n",
    "                next_player  = player - dir \n",
    "                next_dir = - dir \n",
    "            else: \n",
    "                # skip one player\n",
    "                assert action == 3\n",
    "                next_player = player + 2 * dir\n",
    "                next_dir = dir # same direction\n",
    "            # implement wrap around\n",
    "            if next_player  < 0:\n",
    "                next_player = self.num_players + next_player\n",
    "            elif next_player >= self.num_players:\n",
    "                next_player = next_player - self.num_players\n",
    "            assert (0 <= next_player < self.num_players)\n",
    "            # use the copying trick since this method may be called from a derived class\n",
    "            # create a fresh instance of the game board and update its game state.\n",
    "            new_obj = copy.copy(self)\n",
    "            new_obj.game_state  = (next_num, next_player, next_dir)\n",
    "            return new_obj"
   ]
  },
  {
   "cell_type": "code",
   "execution_count": 6,
   "id": "premium-westminster",
   "metadata": {
    "deletable": false,
    "editable": false,
    "nbgrader": {
     "cell_type": "code",
     "checksum": "f69192fc326e13e2a5913af1979b099b",
     "grade": false,
     "grade_id": "cell-2457586b402af12a",
     "locked": true,
     "schema_version": 3,
     "solution": false,
     "task": false
    }
   },
   "outputs": [
    {
     "output_type": "stream",
     "name": "stdout",
     "text": [
      "Number: 0 , Player to play: 0, direction: 1\n- Player 0 plays move 1\n\tNumber: 1 , Player to play: 1, direction: 1\n- Player 1 plays move 3\n\tNumber: 4 , Player to play: 0, direction: 1\n- Player 0 plays move 3\n\tNumber: 7 , Player to play: 2, direction: 1\n- Player 2 plays move 2\n\tNumber: 9 , Player to play: 1, direction: -1\n- Player 1 plays move 3\n\tNumber: 12 , Player to play: 2, direction: -1\n- Player 2 plays move 2\n\tNumber: 14 , Player to play: 0, direction: 1\n- Player 0 plays move 3\n\tNumber: 17 , Player to play: 2, direction: 1\n- Player 2 plays move 3\n\tNumber: 20 , Player to play: 1, direction: 1\n- Player 1 plays move 2\n\tNumber: 22 , Player to play: 1, direction: 1\nPlayer 1 has LOST! :-( \n"
     ]
    }
   ],
   "source": [
    "## Illustrate the example at the beginning.\n",
    "# Let us test to see that we get the expected behavior\n",
    "state = TwentyOneGameBoard(3) # A game with three players\n",
    "state.pretty_print() \n",
    "action_list = [1,3,3,2,3,2,3,3,2] # list of actions\n",
    "for a in action_list:\n",
    "    print('- Player %d plays move %d' % \n",
    "          (state.get_current_player(), a))\n",
    "    assert a in state.actions(), \"Illegal action for the current state\"\n",
    "    # compute the next state\n",
    "    state = state.next_state(a)\n",
    "    print('\\t', end='')\n",
    "    state.pretty_print()"
   ]
  },
  {
   "cell_type": "markdown",
   "id": "current-silicon",
   "metadata": {
    "deletable": false,
    "editable": false,
    "nbgrader": {
     "cell_type": "markdown",
     "checksum": "1623295216d8c0a7ff5c09cc03b15d04",
     "grade": false,
     "grade_id": "cell-f6f710fd95e61c71",
     "locked": true,
     "schema_version": 3,
     "solution": false,
     "task": false
    }
   },
   "source": [
    "#### (ii) Implement Search\n",
    "\n",
    "Your goal is to complete the implementation of the function `multiplayer_minmax_search` on a game which implements the multiplayer version of the search algorithm."
   ]
  },
  {
   "cell_type": "code",
   "execution_count": 7,
   "id": "wound-translator",
   "metadata": {
    "deletable": false,
    "nbgrader": {
     "cell_type": "code",
     "checksum": "537455f595904d7956245d9ec979b081",
     "grade": false,
     "grade_id": "cell-b518382251584341",
     "locked": false,
     "schema_version": 3,
     "solution": true,
     "task": false
    }
   },
   "outputs": [],
   "source": [
    "def multiplayer_minmax_search(state):\n",
    "    cur_player = state.get_current_player()\n",
    "    if state.is_terminal():\n",
    "        # State is dead-end state, directly return the utlity\n",
    "        return ( state.utility(), None ) # there is no best action, so return None\n",
    "    else: \n",
    "        # get a list of actions enabled.\n",
    "        actions_enabled = state.actions()\n",
    "        best_utility = [-float('inf')]*state.num_players\n",
    "        best_action = None\n",
    "        for a in actions_enabled:\n",
    "            # 1. compute next state obtained through action a on current state\n",
    "            next_state = state.next_state(a)\n",
    "            #     2. Recursively calculate the utility of this next state through a \n",
    "            #        recursive call back to multiplayer_minmax_search\n",
    "            next_utility, next_action = multiplayer_minmax_search(next_state)\n",
    "            #     3. compare the utility of the current player from the list in step 2 \n",
    "            #        to the utility of current player in the  best_utility.\n",
    "            if(next_utility[cur_player] > best_utility[cur_player]):\n",
    "                # 3.1 if the utility for current player improves upon the best so far, \n",
    "                # Update best so far\n",
    "                best_utility = next_utility\n",
    "                best_action = next_action\n",
    "        return (best_utility, best_action)"
   ]
  },
  {
   "cell_type": "code",
   "execution_count": 8,
   "id": "future-viking",
   "metadata": {
    "deletable": false,
    "editable": false,
    "nbgrader": {
     "cell_type": "code",
     "checksum": "33b985e1e1dd7bfaaaf4c3d5c146a009",
     "grade": true,
     "grade_id": "cell-b22cc69a518f5233",
     "locked": true,
     "points": 6,
     "schema_version": 3,
     "solution": false,
     "task": false
    }
   },
   "outputs": [
    {
     "output_type": "stream",
     "name": "stdout",
     "text": [
      "----- Test 1 ----- \nNumber: 20 , Player to play: 0, direction: 1\nYour code return utility: [-1, 1]\n----- Test 2 ------ \nNumber: 18 , Player to play: 0, direction: 1\nYour code return utility: [1, -1]\n----- Test 3 ------ \nNumber: 17 , Player to play: 0, direction: 1\nYour code return utility: [-1, 1]\nAll tests passed: 6 points\n"
     ]
    }
   ],
   "source": [
    "print('----- Test 1 ----- ')\n",
    "b1 = TwentyOneGameBoard(2, 20, 0, 1) # Force the state to count = 20, player = 0 and direction = 1\n",
    "b1.pretty_print()\n",
    "(util, act) = multiplayer_minmax_search(b1)\n",
    "print('Your code return utility:', util)\n",
    "assert util == [-1, 1], \"Test 1 failed\"\n",
    "\n",
    "print('----- Test 2 ------ ')\n",
    "b2 = TwentyOneGameBoard(2, 18, 0, 1) # Force the state to count = 18, player = 0, direction = 1\n",
    "b2.pretty_print()\n",
    "(util2, act2) = multiplayer_minmax_search(b2)\n",
    "print('Your code return utility:', util2)\n",
    "assert ( util2 == [1, -1])\n",
    "\n",
    "print('----- Test 3 ------ ')\n",
    "b3 = TwentyOneGameBoard(2, 17, 0, 1) # Force the state to count = 17, player = 0, direction = 1\n",
    "# Note that player 1 will win from this state, no matter what player 0 does.\n",
    "b3.pretty_print()\n",
    "(util3, act3) = multiplayer_minmax_search(b3)\n",
    "print('Your code return utility:', util3)\n",
    "assert ( util3 == [-1, 1])\n",
    "\n",
    "\n",
    "print('All tests passed: 6 points')"
   ]
  },
  {
   "cell_type": "code",
   "execution_count": 9,
   "id": "peaceful-program",
   "metadata": {
    "deletable": false,
    "editable": false,
    "nbgrader": {
     "cell_type": "code",
     "checksum": "cdc8f61fddcbafe7df2c980f822f56f3",
     "grade": true,
     "grade_id": "cell-4b34fb5a4f3030ed",
     "locked": true,
     "points": 4,
     "schema_version": 3,
     "solution": false,
     "task": false
    }
   },
   "outputs": [
    {
     "output_type": "stream",
     "name": "stdout",
     "text": [
      "----- Test 4 ----- \n",
      "Number: 0 , Player to play: 0, direction: 1\n",
      "Your code return utility: [1, -1]\n",
      "Tests passed: 4 point\n"
     ]
    }
   ],
   "source": [
    "print('----- Test 4 ----- ')\n",
    "b0 = TwentyOneGameBoard(2) \n",
    "b0.pretty_print()\n",
    "(util, act) = multiplayer_minmax_search(b0)\n",
    "print('Your code return utility:', util)\n",
    "assert util == [1, -1], \"Test 4 failed\"\n",
    "print('Tests passed: 4 point')"
   ]
  },
  {
   "cell_type": "code",
   "execution_count": 10,
   "id": "pacific-sender",
   "metadata": {
    "deletable": false,
    "editable": false,
    "nbgrader": {
     "cell_type": "code",
     "checksum": "d9cda67582941ea491524232b9cdaac7",
     "grade": true,
     "grade_id": "cell-bdc1f6dc53457936",
     "locked": true,
     "points": 3,
     "schema_version": 3,
     "solution": false,
     "task": false
    }
   },
   "outputs": [
    {
     "output_type": "stream",
     "name": "stdout",
     "text": [
      "----- Test 5 ----- \n",
      "Number: 0 , Player to play: 0, direction: 1\n",
      "[1, 1, -1]\n",
      "Your code return utility: [1, 1, -1]\n",
      "Tests passed: 3 point\n"
     ]
    }
   ],
   "source": [
    "print('----- Test 5 ----- ')\n",
    "b0 = TwentyOneGameBoard(3) \n",
    "b0.pretty_print()\n",
    "(util, act) = multiplayer_minmax_search(b0)\n",
    "print(util)\n",
    "print('Your code return utility:', util)\n",
    "assert util[0] == 1, \"Test 5 failed\"\n",
    "print('Tests passed: 3 point')"
   ]
  },
  {
   "cell_type": "markdown",
   "id": "reserved-accommodation",
   "metadata": {
    "deletable": false,
    "editable": false,
    "nbgrader": {
     "cell_type": "markdown",
     "checksum": "37f7964d206f8388f56603a43ee911c2",
     "grade": false,
     "grade_id": "cell-165f98f3e7151d30",
     "locked": true,
     "schema_version": 3,
     "solution": false,
     "task": false
    }
   },
   "source": [
    "### Part (C): Not graded\n",
    "Try to play the game with the intelligent agent."
   ]
  },
  {
   "cell_type": "code",
   "execution_count": 11,
   "id": "asian-narrow",
   "metadata": {
    "deletable": false,
    "editable": false,
    "nbgrader": {
     "cell_type": "code",
     "checksum": "db95b14131314e8ac579d4823860db8a",
     "grade": false,
     "grade_id": "cell-3022f9c0683d6a35",
     "locked": true,
     "schema_version": 3,
     "solution": false,
     "task": false
    }
   },
   "outputs": [],
   "source": [
    "# Interactively play the game with the users\n",
    "def play_basic_twenty_one_game(num_players):\n",
    "    board = TwentyOneGameBoard(num_players)\n",
    "    while not board.is_terminal():\n",
    "        print('--------------------------------')\n",
    "        board.pretty_print()\n",
    "        current_player = board.get_current_player()\n",
    "        if current_player == 0:\n",
    "            best_utility, player_move  = multiplayer_minmax_search(board)\n",
    "            print('\\t Computer move : +%d' % player_move)\n",
    "            print('Minimax-utility of that move for various players is: %s ' % str(best_utility))\n",
    "        else:\n",
    "            player_move = 0\n",
    "            while player_move < 1 or player_move > 3:\n",
    "                player_move = int(input('\\t Enter player # %d move [1-3]:' % current_player))\n",
    "        board = board.next_state(player_move)\n",
    "    assert board.is_terminal()\n",
    "    print('Player %d got a drink!! ' %board.get_current_player() )\n",
    "    if (board.get_current_player() == 0):\n",
    "        print('The humans beat me!')\n",
    "    else: \n",
    "        print('Intelligent agent wins: I exist to get others drunk on the CSCI 3202 koolaid.')\n",
    "\n"
   ]
  },
  {
   "cell_type": "code",
   "execution_count": 12,
   "id": "ordinary-reaction",
   "metadata": {
    "deletable": false,
    "editable": false,
    "nbgrader": {
     "cell_type": "code",
     "checksum": "905f1119130ab90f933d3953ceb8f386",
     "grade": false,
     "grade_id": "cell-25da8eaa68277f77",
     "locked": true,
     "schema_version": 3,
     "solution": false,
     "task": false
    }
   },
   "outputs": [
    {
     "output_type": "stream",
     "name": "stdout",
     "text": [
      "--------------------------------\nNumber: 0 , Player to play: 0, direction: 1\n"
     ]
    },
    {
     "output_type": "error",
     "ename": "TypeError",
     "evalue": "%d format: a number is required, not NoneType",
     "traceback": [
      "\u001b[1;31m---------------------------------------------------------------------------\u001b[0m",
      "\u001b[1;31mTypeError\u001b[0m                                 Traceback (most recent call last)",
      "\u001b[1;32m<ipython-input-12-e6e7e2905779>\u001b[0m in \u001b[0;36m<module>\u001b[1;34m\u001b[0m\n\u001b[1;32m----> 1\u001b[1;33m \u001b[0mplay_basic_twenty_one_game\u001b[0m\u001b[1;33m(\u001b[0m\u001b[1;36m3\u001b[0m\u001b[1;33m)\u001b[0m\u001b[1;33m\u001b[0m\u001b[1;33m\u001b[0m\u001b[0m\n\u001b[0m",
      "\u001b[1;32m<ipython-input-11-6083dce5e8c8>\u001b[0m in \u001b[0;36mplay_basic_twenty_one_game\u001b[1;34m(num_players)\u001b[0m\n\u001b[0;32m      8\u001b[0m         \u001b[1;32mif\u001b[0m \u001b[0mcurrent_player\u001b[0m \u001b[1;33m==\u001b[0m \u001b[1;36m0\u001b[0m\u001b[1;33m:\u001b[0m\u001b[1;33m\u001b[0m\u001b[1;33m\u001b[0m\u001b[0m\n\u001b[0;32m      9\u001b[0m             \u001b[0mbest_utility\u001b[0m\u001b[1;33m,\u001b[0m \u001b[0mplayer_move\u001b[0m  \u001b[1;33m=\u001b[0m \u001b[0mmultiplayer_minmax_search\u001b[0m\u001b[1;33m(\u001b[0m\u001b[0mboard\u001b[0m\u001b[1;33m)\u001b[0m\u001b[1;33m\u001b[0m\u001b[1;33m\u001b[0m\u001b[0m\n\u001b[1;32m---> 10\u001b[1;33m             \u001b[0mprint\u001b[0m\u001b[1;33m(\u001b[0m\u001b[1;34m'\\t Computer move : +%d'\u001b[0m \u001b[1;33m%\u001b[0m \u001b[0mplayer_move\u001b[0m\u001b[1;33m)\u001b[0m\u001b[1;33m\u001b[0m\u001b[1;33m\u001b[0m\u001b[0m\n\u001b[0m\u001b[0;32m     11\u001b[0m             \u001b[0mprint\u001b[0m\u001b[1;33m(\u001b[0m\u001b[1;34m'Minimax-utility of that move for various players is: %s '\u001b[0m \u001b[1;33m%\u001b[0m \u001b[0mstr\u001b[0m\u001b[1;33m(\u001b[0m\u001b[0mbest_utility\u001b[0m\u001b[1;33m)\u001b[0m\u001b[1;33m)\u001b[0m\u001b[1;33m\u001b[0m\u001b[1;33m\u001b[0m\u001b[0m\n\u001b[0;32m     12\u001b[0m         \u001b[1;32melse\u001b[0m\u001b[1;33m:\u001b[0m\u001b[1;33m\u001b[0m\u001b[1;33m\u001b[0m\u001b[0m\n",
      "\u001b[1;31mTypeError\u001b[0m: %d format: a number is required, not NoneType"
     ]
    }
   ],
   "source": [
    "play_basic_twenty_one_game(3)"
   ]
  },
  {
   "cell_type": "markdown",
   "id": "tribal-norfolk",
   "metadata": {},
   "source": [
    "### Part (D) 5 Points\n",
    "\n",
    "Thus far, the objective of the game was for each player to avoid getting a drink. The utilities modeled this fact. Suppose we now wish to model a different version where the players \"gang up\" against the intelligent agent (player 0), where the players wish to cooperate to ensure that the intelligent agent gets a drink while the intelligent agent would like to avoid the drink.\n",
    "\n",
    "How would you design utilities to ensure that this happens? Your answer should specify what the utility of each type of player is (intelligent agent, and players 1,.., n-1) for the following outcomes:\n",
    "  - Intelligent agent gets to drink.\n",
    "  - Some player other than intelligent agent gets to drink."
   ]
  },
  {
   "cell_type": "markdown",
   "id": "conditional-footage",
   "metadata": {
    "deletable": false,
    "nbgrader": {
     "cell_type": "markdown",
     "checksum": "371cdb35adc36112dda9352f45dc574e",
     "grade": true,
     "grade_id": "cell-97fb7f37505f99ad",
     "locked": false,
     "points": 5,
     "schema_version": 3,
     "solution": true,
     "task": false
    }
   },
   "source": [
    "In order to ensure the Intelligent Agent loses we would need to set the utilities to favor the other players. I.e. IA would need negative utilities always and the other players positive. The converse is true to ensure another player drinks other than the IA. "
   ]
  },
  {
   "cell_type": "markdown",
   "id": "running-bottle",
   "metadata": {
    "deletable": false,
    "editable": false,
    "nbgrader": {
     "cell_type": "markdown",
     "checksum": "540c87362e19fea38ba12c7e9694f646",
     "grade": false,
     "grade_id": "cell-75f67a9bd9819d91",
     "locked": true,
     "schema_version": 3,
     "solution": false,
     "task": false
    }
   },
   "source": [
    "## Part 2 : With Randomized Agents (25 points)\n",
    "\n",
    "In this part, we will include agents that are so \"drunk\" (on koolaid, of course) that they are unable to think strategically. Whenever such a player gets a turn they will randomly select from one of the moves available to them with equal probability. The game therefore has three types of players:\n",
    "  - Intelligent Agent: Player # 0 who gets to start.\n",
    "  - Adversarial player: Player who wishes to avoid drinking and gets a kick out of getting others take a drink.\n",
    "  - Random player: Player who plays randomly. Derives zero utility from all of the game outcomes.\n",
    "  \n",
    "The utilities are as follows:\n",
    "  - If a random player gets a drink everyone has utility of 0. \n",
    "  - If an adversarial/intellgent agent gets a drink then utilities are as follows:\n",
    "    - Intelligent/Adversarial Player: +1 if they do not get a drink, -1 if they are forced to drink at the end of the game.\n",
    "    - Random Player: 0 utility no matter whether they get to drink or not.\n",
    "  \n",
    "### Part 2(A): Define Utility Function (3 points)\n",
    "\n",
    "We are provided a class that extends the data structure from Part 1. \n",
    "\n",
    "- The class `TwentyOneBoardWithRandom` adds the extra feature of having random players on top of the class `TwentyOneGameBoard` defined previously in Part 1.\n",
    "\n",
    "- Extra methods include:\n",
    "  - `is_random_player` : given `player_id` return True if it is ID of a random player and False otherwise.\n",
    " \n",
    "- Complete the implementation of the `utility` function for the class below."
   ]
  },
  {
   "cell_type": "code",
   "execution_count": 26,
   "id": "protective-petite",
   "metadata": {
    "deletable": false,
    "nbgrader": {
     "cell_type": "code",
     "checksum": "0deeb474a11f1bb5f9ef34de51e9751c",
     "grade": false,
     "grade_id": "cell-1a1f669600c1835c",
     "locked": false,
     "schema_version": 3,
     "solution": true,
     "task": false
    }
   },
   "outputs": [],
   "source": [
    "from random import choice as random_choice\n",
    "class TwentyOneBoardWithRandom(TwentyOneGameBoard):\n",
    "    # This class extends from TwentyOneGameBoardd\n",
    "    # Additional Fields:\n",
    "    #  random_players: A list of player ids corresponding to random players.\n",
    "    \n",
    "    def __init__(self, num_players, random_players):\n",
    "        super().__init__(num_players)\n",
    "        # the computer cannot be a random player\n",
    "        assert(all( 1 <= i < num_players for i in random_players))\n",
    "        self.random_players = random_players\n",
    "    \n",
    "    def is_random_player(self, player_id):\n",
    "        return player_id in self.random_players\n",
    "\n",
    "    def utility(self):\n",
    "        (num, loser, dir) = self.game_state\n",
    "        if num >= 21:\n",
    "            if self.is_random_player(loser):\n",
    "                # everyone gets a utility of 0\n",
    "                return [0]*self.num_players\n",
    "            else:\n",
    "                # Whoever lost gets a utility of -1, all non-random players get a utility of +1\n",
    "                # random players get a utility of 0\n",
    "                utility = [0]*self.num_players\n",
    "                for i in range(0, self.num_players):\n",
    "                    if(self.is_random_player(i)):\n",
    "                        utility[i] = 0\n",
    "                    elif(not self.is_random_player(i)):\n",
    "                        utility[i] = 1\n",
    "                utility[loser] = -1\n",
    "                return utility\n",
    "        else: \n",
    "            assert False, 'Asking for utility in a non-terminal state: not well-defined in this version of minimax search'\n",
    "            return [0]*self.num_players"
   ]
  },
  {
   "cell_type": "code",
   "execution_count": 124,
   "id": "dedicated-integrity",
   "metadata": {
    "deletable": false,
    "editable": false,
    "nbgrader": {
     "cell_type": "code",
     "checksum": "06a209d3fc7388b1f0a7cddec440d706",
     "grade": true,
     "grade_id": "cell-9117dc375d13f9e3",
     "locked": true,
     "points": 3,
     "schema_version": 3,
     "solution": false,
     "task": false
    }
   },
   "outputs": [
    {
     "output_type": "stream",
     "name": "stdout",
     "text": [
      "-- Test 1 -- \nNumber: 22 , Player to play: 2, direction: 1\nPlayer 2 has LOST! :-( \n--- Test 2 ---\nNumber: 21 , Player to play: 0, direction: 1\nPlayer 0 has LOST! :-( \n--- Test 3 ---\nNumber: 21 , Player to play: 1, direction: 1\nPlayer 1 has LOST! :-( \nAll tests passed: 3 points\n"
     ]
    }
   ],
   "source": [
    "### BEGIN TESTS\n",
    "\n",
    "print('-- Test 1 -- ')\n",
    "b1 = TwentyOneBoardWithRandom(3,[2])\n",
    "b1.game_state= (22, 2, 1)\n",
    "b1.pretty_print()\n",
    "assert (b1.utility() == [0,0,0]), \"Print utility must be [0,0,0]\"\n",
    "\n",
    "print('--- Test 2 ---')\n",
    "b1.game_state = (21, 0, 1)\n",
    "b1.pretty_print()\n",
    "assert(b1.utility() == [-1, 1, 0])\n",
    "\n",
    "print('--- Test 3 ---')\n",
    "b1.game_state = (21, 1, 1)\n",
    "b1.pretty_print()\n",
    "assert(b1.utility() == [1, -1, 0])\n",
    "\n",
    "print('All tests passed: 3 points')\n",
    "### END TESTS"
   ]
  },
  {
   "cell_type": "markdown",
   "id": "advanced-wright",
   "metadata": {
    "deletable": false,
    "editable": false,
    "nbgrader": {
     "cell_type": "markdown",
     "checksum": "356c36bd21183b288c198be64d1f1155",
     "grade": false,
     "grade_id": "cell-685e26ce7bcbe574",
     "locked": true,
     "schema_version": 3,
     "solution": false,
     "task": false
    }
   },
   "source": [
    "### Part 2 (B) Program Expect-Max Search (22 points)\n",
    "\n",
    "Complete the extension of the expectimax algorithm for dealing with the random actions of the player."
   ]
  },
  {
   "cell_type": "code",
   "execution_count": 119,
   "id": "promising-clause",
   "metadata": {
    "deletable": false,
    "nbgrader": {
     "cell_type": "code",
     "checksum": "6513adce1824a33995222a70fe3f3d1f",
     "grade": false,
     "grade_id": "cell-953e61120b7d3b1d",
     "locked": false,
     "schema_version": 3,
     "solution": true,
     "task": false
    }
   },
   "outputs": [],
   "source": [
    "def expectimax_search(state): \n",
    "    # return the best action and corresponding utility\n",
    "    # for play starting from this state\n",
    "    # from the point of view of the current player.\n",
    "    (_, cur_player, _) = state.game_state\n",
    "    assert(0 <= cur_player < state.num_players)\n",
    "\n",
    "# TODO: \n",
    "        #   For each action a enabled in this state\n",
    "        #     1.1 compute next state on this action.\n",
    "        #     1.2 Recursively call expectimax search \n",
    "        #     1.3. If cur_player is a RANDOM player\n",
    "        #             Sum up the utilities from each action\n",
    "        #         Else\n",
    "        #             If it is better than best so far, replace the best so far.\n",
    "        #   If the player is random, divide the best utility by number of actions to \n",
    "        #            compute average utility\n",
    "        #   Return tuple of\n",
    "        #          best utility (average utility for random player) and \n",
    "        #          corresponding action (None for random player)\n",
    "\n",
    "\n",
    "    if state.is_terminal():\n",
    "        # State is dead-end state\n",
    "        return (state.utility(), None)\n",
    "    else: \n",
    "        # get a list of actions enabled.\n",
    "        actions_enabled = state.actions()\n",
    "        best_action = -5\n",
    "        best_utility = None # initialize best utility to None\n",
    "        # Create sum_utilities list, to store and sum the utilities for each action when player is random\n",
    "        sum_utilities = [0]*state.num_players\n",
    "        #  1. For each action a enabled in this state\n",
    "        for a in actions_enabled:\n",
    "            # 1.1 compute next state on this action.\n",
    "            next_state = state.next_state(a)\n",
    "            # 1.2 Recursively call expectimax search \n",
    "            next_utility, next_action = expectimax_search(next_state)\n",
    "            # 1.3. If cur_player is a RANDOM player\n",
    "            if(state.is_random_player(cur_player)):\n",
    "                # Sum up the utilities from each action\n",
    "                for i in range(len(sum_utilities)):\n",
    "                    sum_utilities[i] += next_utility[i]    \n",
    "            else:\n",
    "                # If it is better than best so far, replace the best so far.\n",
    "                # Also, must check if best_utility has no value thus far, will cause issues.\n",
    "                if((best_utility == None) or (next_utility[cur_player] > best_utility[cur_player])):\n",
    "                    best_utility = next_utility\n",
    "                    best_action = a\n",
    "        # If the player is random\n",
    "        if(state.is_random_player(cur_player)):\n",
    "            # divide the best utility by number of actions to compute average utility\n",
    "            for i in range(len(sum_utilities)):\n",
    "                sum_utilities[i] = sum_utilities[i] / len(actions_enabled)\n",
    "            best_utility = sum_utilities\n",
    "            best_action = None\n",
    "        return (best_utility, best_action)"
   ]
  },
  {
   "cell_type": "code",
   "execution_count": 120,
   "id": "unable-breakdown",
   "metadata": {
    "deletable": false,
    "editable": false,
    "nbgrader": {
     "cell_type": "code",
     "checksum": "7905a71c917e00c30cfcda211c96c48a",
     "grade": true,
     "grade_id": "cell-7cea7e8e205e619d",
     "locked": true,
     "points": 5,
     "schema_version": 3,
     "solution": false,
     "task": false
    }
   },
   "outputs": [
    {
     "output_type": "stream",
     "name": "stdout",
     "text": [
      "-- Test 1 -- \nNumber: 19 , Player to play: 2, direction: 1\n[-0.3333333333333333, 0.3333333333333333, 0.0]\nTest 1 Passed: 5 points\n"
     ]
    }
   ],
   "source": [
    "### BEGIN TEST\n",
    "print('-- Test 1 -- ')\n",
    "b1 = TwentyOneBoardWithRandom(3,[2])\n",
    "b1.game_state= (19, 2, 1)\n",
    "b1.pretty_print()\n",
    "(utils, act) = expectimax_search(b1)\n",
    "print(utils)\n",
    "assert (-0.33333333333 - 1E-05 <= utils[0] <= -0.33333333333+ 1E-05), \"utilities returned by expectimax must be [-1/3,1/3,0]\"\n",
    "assert (0.33333333333 - 1E-05 <= utils[1] <= 0.33333333333+ 1E-05), \"utilities returned by expectimax must be [-1/3,1/3,0]\"\n",
    "assert ( -1E-05 <= utils[2] <= 1E-05), \"utilities returned by expectimax must be [-1/3,1/3,0]\"\n",
    "print('Test 1 Passed: 5 points')\n",
    "### END TEST"
   ]
  },
  {
   "cell_type": "code",
   "execution_count": 121,
   "id": "animal-shelter",
   "metadata": {
    "deletable": false,
    "editable": false,
    "nbgrader": {
     "cell_type": "code",
     "checksum": "3d2ad7172e8a2831af11c1c1f663c3a7",
     "grade": true,
     "grade_id": "cell-2bf80feaebd2a4aa",
     "locked": true,
     "points": 5,
     "schema_version": 3,
     "solution": false,
     "task": false
    }
   },
   "outputs": [
    {
     "output_type": "stream",
     "name": "stdout",
     "text": [
      "-- Test 2 -- \nNumber: 18 , Player to play: 2, direction: 1\n[0.6666666666666666, -0.6666666666666666, 0.0]\nTest 2 Passed: 5 points\n"
     ]
    }
   ],
   "source": [
    "## BEGIN TESTS\n",
    "print('-- Test 2 -- ')\n",
    "b1 = TwentyOneBoardWithRandom(3,[2])\n",
    "b1.game_state= (18, 2, 1)\n",
    "b1.pretty_print()\n",
    "(utils, act) = expectimax_search(b1)\n",
    "print(utils)\n",
    "assert (0.6666666 - 1E-04 <= utils[0] <= 0.6666666+ 1E-04), \"utilities returned by expectimax must be [-1/3,1/3,0]\"\n",
    "assert (-0.6666666 - 1E-04 <= utils[1] <= 0.6666666+ 1E-04), \"utilities returned by expectimax must be [-1/3,1/3,0]\"\n",
    "assert ( -1E-05 <= utils[2] <= 1E-05), \"utilities returned by expectimax must be [-2/3,2/3,0]\"\n",
    "print('Test 2 Passed: 5 points')\n",
    "## END TESTS"
   ]
  },
  {
   "cell_type": "code",
   "execution_count": 122,
   "id": "central-assignment",
   "metadata": {
    "deletable": false,
    "editable": false,
    "nbgrader": {
     "cell_type": "code",
     "checksum": "72377bed5f97b08f1ed6f1cbe74eebdb",
     "grade": true,
     "grade_id": "cell-6042119167dd41ad",
     "locked": true,
     "points": 7,
     "schema_version": 3,
     "solution": false,
     "task": false
    }
   },
   "outputs": [
    {
     "output_type": "stream",
     "name": "stdout",
     "text": [
      "-- Test 3 -- \nNumber: 18 , Player to play: 3, direction: 1\n[1, -1, 0, 1]\nTest 3 Passed: 7 points\n"
     ]
    }
   ],
   "source": [
    "### BEGIN TESTS\n",
    "print('-- Test 3 -- ')\n",
    "b1 = TwentyOneBoardWithRandom(4,[2])\n",
    "b1.game_state= (18, 3, 1)\n",
    "b1.pretty_print()\n",
    "(utils, act) = expectimax_search(b1)\n",
    "print(utils)\n",
    "assert utils == [1,-1,0,1]\n",
    "assert act == 1\n",
    "print('Test 3 Passed: 7 points')\n",
    "### END TESTS"
   ]
  },
  {
   "cell_type": "code",
   "execution_count": 123,
   "id": "athletic-import",
   "metadata": {
    "deletable": false,
    "editable": false,
    "nbgrader": {
     "cell_type": "code",
     "checksum": "d2b4c8e99fc5ff026372ae08f005c774",
     "grade": true,
     "grade_id": "cell-e41e67fc70096a86",
     "locked": true,
     "points": 5,
     "schema_version": 3,
     "solution": false,
     "task": false
    }
   },
   "outputs": [
    {
     "output_type": "stream",
     "name": "stdout",
     "text": [
      "-- Test 4 -- \nNumber: 17 , Player to play: 2, direction: 1\n[-0.3333333333333333, 0.3333333333333333, 0.0, 1.0]\nTest 5 Passed: 5 points\n"
     ]
    }
   ],
   "source": [
    "### BEGIN TESTS\n",
    "print('-- Test 4 -- ')\n",
    "b1 = TwentyOneBoardWithRandom(4,[2])\n",
    "b1.game_state= (17, 2, 1)\n",
    "b1.pretty_print()\n",
    "(utils, act) = expectimax_search(b1)\n",
    "print(utils)\n",
    "\n",
    "assert( -0.3333 - 1E-04 <= utils[0] <= -0.3333 + 1E-04)\n",
    "assert( 0.3333 - 1E-04 <= utils[1] <= 0.3333 + 1E-04)\n",
    "assert( -1E-04 <= utils[2] <= 1E-04)\n",
    "assert( 1 - 1E-04 <= utils[3] <= 1 + 1E-04)\n",
    "#assert utils == [1,-1,0,1]\n",
    "#assert act == 1\n",
    "print('Test 5 Passed: 5 points')\n",
    "### END TESTS"
   ]
  },
  {
   "cell_type": "markdown",
   "id": "christian-projection",
   "metadata": {
    "deletable": false,
    "editable": false,
    "nbgrader": {
     "cell_type": "markdown",
     "checksum": "311cb112f0b0c903c8a81ae8d255aeba",
     "grade": false,
     "grade_id": "cell-fe6e31684ada1cf2",
     "locked": true,
     "schema_version": 3,
     "solution": false,
     "task": false
    }
   },
   "source": [
    "### Part C : Not graded \n",
    "\n",
    "Here is the script to play the game with a random player. Try to see if you can beat the computer in a 3 player game with 1 random player and 1 adversarial player. Post the \"transcript\" of the session on piazza if you managed to beat the computer. Let us know how."
   ]
  },
  {
   "cell_type": "code",
   "execution_count": 118,
   "id": "aging-cattle",
   "metadata": {
    "deletable": false,
    "editable": false,
    "nbgrader": {
     "cell_type": "code",
     "checksum": "f3fa51e8b0d8eb9e0c0b2ae20c3f6949",
     "grade": false,
     "grade_id": "cell-3235ba897471c351",
     "locked": true,
     "schema_version": 3,
     "solution": false,
     "task": false
    }
   },
   "outputs": [],
   "source": [
    "def play_random_twenty_one_game(num_players, random_player_ids):\n",
    "    board = TwentyOneBoardWithRandom(num_players, random_player_ids)\n",
    "    while not board.is_terminal():\n",
    "        print('--------------------------------')\n",
    "        board.pretty_print()\n",
    "        current_player = board.get_current_player()\n",
    "        if current_player == 0:\n",
    "            best_utility, player_move = expectimax_search(board)\n",
    "            print('\\t Computer move : +%d' % player_move)\n",
    "            print('Minimax-utility of that move for various players is: %s ' % str(best_utility))\n",
    "        elif board.is_random_player(current_player):\n",
    "            act = board.actions()\n",
    "            player_move = random_choice(act)\n",
    "            print('Random player chooses action %d' % player_move)\n",
    "        else:\n",
    "            player_move = 0\n",
    "            while player_move < 1 or player_move > 3:\n",
    "                player_move = int(input('\\t Enter player # %d move [1-3]:' % current_player))\n",
    "        board = board.next_state(player_move)\n",
    "\n",
    "    assert board.is_terminal()\n",
    "    print('Player %d got a drink!! ' % board.get_current_player() )\n",
    "    if (board.get_current_player() == 0):\n",
    "        print('The adversaries beat me $%^^&&!!. I will get them next time')\n",
    "    elif board.is_random_player(board.get_current_player()):\n",
    "        print('Another random player gets the drink! ')\n",
    "    else: \n",
    "        print('Intelligent agent wins: I exist to get my adversaries drunk on the CSCI 3202 koolaid.')\n"
   ]
  },
  {
   "cell_type": "code",
   "execution_count": null,
   "id": "honest-liverpool",
   "metadata": {
    "deletable": false,
    "editable": false,
    "nbgrader": {
     "cell_type": "code",
     "checksum": "d8f15566e3fd27aa997470e6c14c3f17",
     "grade": false,
     "grade_id": "cell-05e25601c7caab20",
     "locked": true,
     "schema_version": 3,
     "solution": false,
     "task": false
    }
   },
   "outputs": [],
   "source": [
    "play_random_twenty_one_game(3, [1])"
   ]
  },
  {
   "cell_type": "markdown",
   "id": "enhanced-participant",
   "metadata": {
    "deletable": false,
    "editable": false,
    "nbgrader": {
     "cell_type": "markdown",
     "checksum": "0a863ba0df24ec80fc440cad1892b341",
     "grade": false,
     "grade_id": "cell-7c0ce96cbc9780c6",
     "locked": true,
     "schema_version": 3,
     "solution": false,
     "task": false
    }
   },
   "source": [
    "#### That's All Folks!"
   ]
  }
 ],
 "metadata": {
  "kernelspec": {
   "name": "python385jvsc74a57bd0d217956d1f6cc47cebe591269b1498bf729dafc6aa9e6e2d557840a10d3b3fbd",
   "display_name": "Python 3.8.5 64-bit"
  },
  "language_info": {
   "codemirror_mode": {
    "name": "ipython",
    "version": 3
   },
   "file_extension": ".py",
   "mimetype": "text/x-python",
   "name": "python",
   "nbconvert_exporter": "python",
   "pygments_lexer": "ipython3",
   "version": "3.8.8"
  }
 },
 "nbformat": 4,
 "nbformat_minor": 5
}